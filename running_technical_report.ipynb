{
 "cells": [
  {
   "cell_type": "markdown",
   "metadata": {},
   "source": [
    "# Running Classification Technical Report\n",
    "Authors: Suyash Kushwaha and Jack Brandt  \n",
    "\n",
    "Course: CPSC 322\n",
    "\n",
    "Assignment: Final Project\n",
    "\n",
    "Date of current version: December 11, 2024\n",
    "\n",
    "Did you attempt the bonus? Yes\n",
    "\n",
    "Brief description of project goals:\n",
    "\n",
    "* Classify running speed based off other metrics\n",
    "* Learn about random forest classification"
   ]
  },
  {
   "cell_type": "markdown",
   "metadata": {},
   "source": [
    "## Introduction\n",
    "\n",
    "For our dataset we are using running and personal wellness data (think stress and heart rate throughout the day) gathered by Jack's Garmin watch over the past few years. Our goal was to predict running speed (i.e., slow, mild, or fast) based on the following attributes:\n",
    "* Stress\n",
    "* Average Heart Rate\n",
    "* Duration\n",
    "\n",
    "### Findings\n",
    "\n",
    "The best performing classifier was KNN with an accuracy of .67."
   ]
  },
  {
   "cell_type": "markdown",
   "metadata": {},
   "source": [
    "### Imports"
   ]
  },
  {
   "cell_type": "code",
   "execution_count": 554,
   "metadata": {},
   "outputs": [],
   "source": [
    "# Imports\n",
    "import importlib\n",
    "import matplotlib.pyplot as plt\n",
    "import numpy as np\n",
    "import pickle # standard library\n",
    "# mypytable\n",
    "import mysklearn.mypytable\n",
    "importlib.reload(mysklearn.mypytable)\n",
    "from mysklearn.mypytable import MyPyTable\n",
    "# myevaluation\n",
    "import mysklearn.myevaluation\n",
    "importlib.reload(mysklearn.myevaluation)\n",
    "import mysklearn.myevaluation as me\n",
    "# myutils\n",
    "import mysklearn.myutils\n",
    "importlib.reload(mysklearn.myutils)\n",
    "import mysklearn.myutils as mu\n",
    "from mysklearn.myutils import speed_discretizer,heart_rate_discretizer,stress_discretizer,duration_discretizer\n",
    "\n",
    "from mysklearn.myclassifiers import MyDecisionTreeClassifier, MyDummyClassifier, MyKNeighborsClassifier, MyNaiveBayesClassifier, MyRandomForestClassifier\n",
    "\n",
    "from mysklearn.myutils import combine_multiple_files"
   ]
  },
  {
   "cell_type": "markdown",
   "metadata": {},
   "source": [
    "## Step 1: Data Cleaning\n",
    "\n",
    "### Preprocessing\n",
    "\n",
    "The data came as a large number of JSON files grouped into folders. Many of the files and folders were empty, so we began by deleting those. Some of the files contained irrelevant data/non-changing data, such as date of birth and device specs, so we also deleted those. What we were left with was three sets of JSON files, aggregator, fitness, and wellness.\n",
    "\n",
    "* Aggregator: This contains the most info. It has a list of metrics related to stress, calories, heart rate, and minor metrics related to activity\n",
    "* Fitness: This contains a list of activities and information about them. All of these activities are runs. Has attributes like distance, speed, heart rate, duration\n",
    "* Wellness: This mainly contained sleep data\n",
    "\n",
    "### Cleaning/Joining\n",
    "\n",
    "Many instances in the dataset are missing values, or are just instances with basically no data.\n",
    "\n",
    "Additionally, for this step we combine all of the many JSON files into one. First by joining all files within each folder, simply appending them onto each other. Then join the lists from each folder. \n",
    "\n",
    "We also opened the CSV's in Excel to guide our decision-making process for this step."
   ]
  },
  {
   "cell_type": "code",
   "execution_count": 555,
   "metadata": {},
   "outputs": [],
   "source": [
    "# Cleaning/Joining...\n",
    "# SLEEP\n",
    "# 1. load all files\n",
    "\n",
    "sleep_file_names = [\n",
    "    \"2021-04-23_2021-08-01_96200873_sleepData.csv\",\n",
    "    \"2021-08-01_2021-11-09_96200873_sleepData.csv\",\n",
    "    \"2021-11-09_2022-02-17_96200873_sleepData.csv\",\n",
    "    \"2022-02-17_2022-05-28_96200873_sleepData.csv\",\n",
    "    \"2022-05-28_2022-09-05_96200873_sleepData.csv\",\n",
    "    \"2022-09-05_2022-12-14_96200873_sleepData.csv\",\n",
    "    \"2022-12-14_2023-03-24_96200873_sleepData.csv\",\n",
    "    \"2023-03-24_2023-07-02_96200873_sleepData.csv\",\n",
    "    \"2023-07-02_2023-10-10_96200873_sleepData.csv\",\n",
    "    \"2023-10-10_2024-01-18_96200873_sleepData.csv\",\n",
    "    \"2024-01-18_2024-04-27_96200873_sleepData.csv\",\n",
    "    \"2024-04-27_2024-08-05_96200873_sleepData.csv\",\n",
    "    \"2024-08-05_2024-11-13_96200873_sleepData.csv\"\n",
    "]\n",
    "\n",
    "full_sleep_table = combine_multiple_files(sleep_file_names, \"csv_converted_data/connect_wellness\")\n",
    "\n",
    "#current_table.pretty_print()\n",
    "# 3. Basic cleaning\n",
    "full_sleep_table.remove_rows_with_missing_values()\n",
    "full_sleep_table.remove_rows_where_col_equal_specified(\n",
    "    full_sleep_table.column_names.index(\"sleepWindowConfirmationType\"),\n",
    "    'OFF_WRIST'\n",
    ")\n",
    "\n",
    "# This is all of our joined sleep data\n",
    "#full_sleep_table.pretty_print()\n",
    "full_sleep_table.save_to_file('joined_nullfree_subsets/full_sleep.csv')"
   ]
  },
  {
   "cell_type": "code",
   "execution_count": 556,
   "metadata": {},
   "outputs": [],
   "source": [
    "# Repeat for other file sets\n",
    "# ACTIVITY\n",
    "\n",
    "acitivity_files_names = [\n",
    "    \"jack-brandt@comcast.net_0_summarizedActivities.csv\",\n",
    "    \"jack-brandt@comcast.net_1001_summarizedActivities.csv\"\n",
    "]\n",
    "full_activity_table = combine_multiple_files(acitivity_files_names, \"csv_converted_data/connect_fitness\")\n",
    "full_activity_table.save_to_file('joined_nullfree_subsets/full_activity.csv')"
   ]
  },
  {
   "cell_type": "code",
   "execution_count": 557,
   "metadata": {},
   "outputs": [],
   "source": [
    "# Repeat for other file sets\n",
    "# AGGREGATOR\n",
    "\n",
    "aggregator_file_names = [\n",
    "    \"UDSFile_2021-04-23_2021-08-01.csv\",\n",
    "    \"UDSFile_2021-08-01_2021-11-09.csv\",\n",
    "    \"UDSFile_2021-11-09_2022-02-17.csv\",\n",
    "    \"UDSFile_2022-02-17_2022-05-28.csv\",\n",
    "    \"UDSFile_2022-05-28_2022-09-05.csv\",\n",
    "    \"UDSFile_2022-09-05_2022-12-14.csv\",\n",
    "    \"UDSFile_2022-12-14_2023-03-24.csv\",\n",
    "    \"UDSFile_2023-03-24_2023-07-02.csv\",\n",
    "    \"UDSFile_2023-07-02_2023-10-10.csv\",\n",
    "    \"UDSFile_2023-10-10_2024-01-18.csv\",\n",
    "    \"UDSFile_2024-01-18_2024-04-27.csv\",\n",
    "    \"UDSFile_2024-04-27_2024-08-05.csv\",\n",
    "    \"UDSFile_2024-08-05_2024-11-13.csv\",\n",
    "]\n",
    "\n",
    "full_aggregator_table = combine_multiple_files(aggregator_file_names, \"csv_converted_data/connect_aggregator_data\")\n",
    "full_aggregator_table.save_to_file('joined_nullfree_subsets/full_aggregator.csv')"
   ]
  },
  {
   "cell_type": "code",
   "execution_count": 558,
   "metadata": {},
   "outputs": [],
   "source": [
    "from datetime import datetime, timedelta\n",
    "\n",
    "# Load the combined tables\n",
    "full_activity_table = MyPyTable().load_from_file(\n",
    "    \"joined_nullfree_subsets/full_activity.csv\"\n",
    ")\n",
    "full_sleep_table = MyPyTable().load_from_file(\"joined_nullfree_subsets/full_sleep.csv\")\n",
    "full_aggregator_table = MyPyTable().load_from_file(\"joined_nullfree_subsets/full_aggregator.csv\")\n",
    "\n",
    "# full_activity_table doesn't have a calendarDate column, so we need to add it\n",
    "# by converting the startTimeLocal column to a date\n",
    "start_time_index = full_activity_table.column_names.index(\"startTimeLocal\")\n",
    "\n",
    "# Add the column\n",
    "full_activity_table.column_names.append(\"calendarDate\")\n",
    "\n",
    "# Add the calendarDate to each row\n",
    "for data in full_activity_table.data:\n",
    "    timestamp = data[start_time_index] / 1000\n",
    "    dt_object = datetime.fromtimestamp(timestamp)\n",
    "    date = dt_object.strftime(\"%Y-%m-%d\")\n",
    "    data.append(date)\n",
    "\n",
    "# Now we can join the tables\n",
    "fully_joined_table = (full_activity_table.perform_inner_join(\n",
    "    full_sleep_table, [\"calendarDate\"]\n",
    ")).perform_inner_join(\n",
    "    full_aggregator_table, [\"calendarDate\"]\n",
    ")\n",
    "\n",
    "stress_dict = {}\n",
    "calendar_date_index = full_aggregator_table.column_names.index(\"calendarDate\")\n",
    "stress_index = full_aggregator_table.column_names.index(\"allDayStress/aggregatorList/0/maxStressLevel\")\n",
    "\n",
    "\n",
    "for row in full_aggregator_table.data:\n",
    "    stress_dict[row[calendar_date_index]] = row[stress_index]\n",
    "\n",
    "# Add the stress level to the fully joined table\n",
    "fully_joined_table.column_names.append(\"prevDayMaxStressLevel\")\n",
    "fully_joined_table_calender_date_index = fully_joined_table.column_names.index(\"calendarDate\")\n",
    "\n",
    "for row in fully_joined_table.data:\n",
    "    calendar_date = row[fully_joined_table_calender_date_index]\n",
    "\n",
    "    # Get the previous calendar date\n",
    "    prev_calendar_date = (datetime.strptime(calendar_date, \"%Y-%m-%d\") - timedelta(days=1)).strftime(\"%Y-%m-%d\")\n",
    "\n",
    "    # Get the stress level for the previous day\n",
    "    if prev_calendar_date in stress_dict:\n",
    "        row.append(stress_dict[prev_calendar_date])\n",
    "    else:\n",
    "        row.append(None)\n",
    "\n",
    "fully_joined_table.save_to_file(\"processed_data/fully_joined.csv\")"
   ]
  },
  {
   "cell_type": "code",
   "execution_count": 559,
   "metadata": {},
   "outputs": [
    {
     "name": "stdout",
     "output_type": "stream",
     "text": [
      "attribute                      min           max           mid            avg         median\n",
      "---------------------  -----------  ------------  ------------  -------------  -------------\n",
      "prevDayMaxStressLevel      60        99            79.5          91.8448        92\n",
      "avgHr                     125       176           150.5         153.036        153\n",
      "duration               633362         1.3104e+07    6.8687e+06    2.35782e+06    2.24079e+06\n",
      "avgSpeed                    0.1722    0.630717      0.401458      0.328828       0.328\n"
     ]
    }
   ],
   "source": [
    "columns = [\"prevDayMaxStressLevel\", \"avgHr\", \"duration\", \"avgSpeed\"]\n",
    "class_column = \"avgSpeed\"\n",
    "column_index = {}\n",
    "\n",
    "for column in columns:\n",
    "    column_index[column] = fully_joined_table.column_names.index(column)\n",
    "\n",
    "data = []\n",
    "\n",
    "for row in fully_joined_table.data:\n",
    "    data.append([row[column_index[column]] for column in columns])\n",
    "\n",
    "table = MyPyTable(column_names=columns, data=data)\n",
    "\n",
    "# Remove rows with missing values\n",
    "table.remove_rows_with_missing_values()\n",
    "\n",
    "# Remove runs that are less than 10 minutes\n",
    "table.remove_row_if(table.get_index(\"duration\"), lambda x: x < 600000)\n",
    "table.remove_rows_where_col_equal_specified(table.get_index(class_column), 0)\n",
    "\n",
    "columns_to_extract = columns.copy()\n",
    "columns_to_extract.remove(class_column)\n",
    "\n",
    "table.save_to_file(\"processed_data/processed_data.csv\")\n",
    "\n",
    "X = [[stress_discretizer(row[0]), heart_rate_discretizer(row[1]), duration_discretizer(row[2])] for row in table.get_data_subset(columns_to_extract, False)]\n",
    "X_undiscretized = table.get_data_subset(columns_to_extract, False)\n",
    "y = [speed_discretizer(row) for row in table.get_column(class_column)]\n",
    "\n",
    "\n",
    "table.compute_summary_statistics(table.column_names).pretty_print()"
   ]
  },
  {
   "cell_type": "markdown",
   "metadata": {},
   "source": [
    "### Pickling"
   ]
  },
  {
   "cell_type": "code",
   "execution_count": 560,
   "metadata": {},
   "outputs": [],
   "source": [
    "# Pickling\n",
    "\n",
    "packaged_obj = (X,y)\n",
    "outfile = open(\"knn.p\",\"wb\")\n",
    "pickle.dump(packaged_obj,outfile)\n",
    "outfile.close()"
   ]
  },
  {
   "cell_type": "markdown",
   "metadata": {},
   "source": [
    "## Data Analysis\n",
    "\n",
    "### Dataset information:\n",
    "Attributes: We've narrowed it down to just stress, average heart, rate, and duration for use in classifiers (even though we started with something more like 2 dozen). We did this simply by using intuition on what would work well (many attributes were basically the same, eg different measures of stress or heart rate), and removed everything else to prevent overfitting. There were 773 instances remaining in this set after we removed those containing nulls.\n",
    "\n",
    "As for the attributes themselves:\n",
    "* Stress is a measured by the watch over the course of the data based upon heart rate variability. (Technically we are using max stress level of the previous day as our stress metric). Max value is 100. We believe that this metric is not necessarily reflective of actual stress (otherwise why is Jack hitting 91% of max stress everyday), but it is still useful for predicting running.\n",
    "* Average heart rate: This is exactly what it sounds like (measured over the course of the run)\n",
    "* Duration: This is the time duration of the run (measured in milliseconds).\n",
    "\n",
    "Label:\n",
    "* Running Speed: Simply the average speed over the course of the run. The unit hear doesn't align with any known common measure of speed, so we presume they are arbitrary (the speed is standardized based upon max possible running speed?)\n",
    "\n",
    "We discretize all of these into 3 categories respectively. The bounds for discretization were selected somewhat arbitrarily based on using nice numbers and somewhat decent distributions between categories.\n",
    "\n",
    "### Relevant Summary Statistics:\n",
    "* Stress: All stress values are between 60 and 99, and the average is about 91.\n",
    "* Average Heart rate: All HR values are between 125 and 176, and the average is 153\n",
    "* Duration: All duration values are between 633362 miliseconds (10.55) minutes and 1.3104e+07 miliseconds (218 minutes). With the average being 2.35486e+06 miliseconds (39.25 minutes).\n",
    "* Running Speed: All runs are between 0.1722 and 0.630717, with the average being 0.328749.\n",
    "\n",
    "For more summary statistics see the above summary table.\n",
    "\n",
    "### Data Visualizations:\n",
    "\n",
    "The following graphs show the attributes discretized into 3 categories (e.g., low, medium, high) as a graph of their number of instances. The first, running speed, is our class, while the rest (stress, average heart rate, and duration) are used for prediction.\n",
    "\n",
    "Figure 1: A bar chart of running speed distribution, shows that faster runs have a higher frequency than slower runs (based on our discretization)\n",
    "\n",
    "Figure 2: A bar chart of stress distribution, shows that medium stress is by far the most common\n",
    "\n",
    "Figure 3: A bar chart of heart rate distribution, shows that medium heart rate followed by low heart rate are much more common than high heart rate.\n",
    "\n",
    "Figure 4: A bar chart of duration distribution, shows a similar distribution for duration.\n",
    "\n",
    "While we could adjust the discretization for equal width binning, we believe there is merit in these distributions. Mainly, that for stress, heart rate, and duration, they reflect the real distributions of perceived stress/heart rate/duration levels. And for running speed, since these are all non-competitive runs, it is more important for the run to be above a certain tolerable threshold of speed than for the run to be what could actually be described as fast. Thus, discretizing larger bins for mild and fast puts the distribution more inline with speed in the context of a training run."
   ]
  },
  {
   "cell_type": "markdown",
   "metadata": {},
   "source": [
    "### Running Speed"
   ]
  },
  {
   "cell_type": "code",
   "execution_count": 561,
   "metadata": {},
   "outputs": [
    {
     "data": {
      "image/png": "[encoded data removed]",
      "text/plain": [
       "<Figure size 640x480 with 1 Axes>"
      ]
     },
     "metadata": {},
     "output_type": "display_data"
    }
   ],
   "source": [
    "# reset figure\n",
    "plt.figure()\n",
    "\n",
    "# define x and y values\n",
    "xs = [1, 2, 3]\n",
    "ys = [y.count('slow'), y.count('mild'), y.count('fast')]\n",
    "\n",
    "# calculate a range (make y a bit bigger)\n",
    "xrng = np.arange(len(xs))\n",
    "yrng = np.arange(0, max(ys)+100, 50)\n",
    "\n",
    "# create the bar chart (.45 relativebar width)\n",
    "plt.bar(xrng, ys, 0.45, align=\"center\")\n",
    "# note: default alignment is center\n",
    "\n",
    "# define x and y ranges (and value labels)\n",
    "plt.xticks(xrng, [\"slow\", \"mild\", \"fast\"])\n",
    "plt.yticks(yrng)\n",
    "# turn on the background grid\n",
    "plt.grid(True)\n",
    "plt.title(\"Running Speed Distribution\")\n",
    "plt.figtext(.5, 0, \"Figure 1: Bar chart of running speed distribution\", ha=\"center\")\n",
    "plt.show()"
   ]
  },
  {
   "cell_type": "markdown",
   "metadata": {},
   "source": [
    "### Stress"
   ]
  },
  {
   "cell_type": "code",
   "execution_count": 562,
   "metadata": {},
   "outputs": [
    {
     "data": {
      "image/png": "[encoded data removed]",
      "text/plain": [
       "<Figure size 640x480 with 1 Axes>"
      ]
     },
     "metadata": {},
     "output_type": "display_data"
    }
   ],
   "source": [
    "# reset figure\n",
    "plt.figure()\n",
    "\n",
    "hist_y = [x[0] for x in X]\n",
    "ys = [hist_y.count('low'), hist_y.count('mid'), hist_y.count('high')]\n",
    "\n",
    "# calculate a range (make y a bit bigger)\n",
    "xrng = np.arange(len(xs))\n",
    "yrng = np.arange(0, max(ys)+100, 50)\n",
    "\n",
    "# create the bar chart (.45 relativebar width)\n",
    "plt.bar(xrng, ys, 0.45, align=\"center\")\n",
    "# note: default alignment is center\n",
    "\n",
    "# define x and y ranges (and value labels)\n",
    "plt.xticks(xrng, [\"low\", \"mid\", \"high\"])\n",
    "plt.yticks(yrng)\n",
    "# turn on the background grid\n",
    "plt.grid(True)\n",
    "plt.title(\"Stress Distribution\")\n",
    "plt.figtext(.5, 0, \"Figure 2: Bar chart of stress distribution\", ha=\"center\")\n",
    "plt.show()"
   ]
  },
  {
   "cell_type": "markdown",
   "metadata": {},
   "source": [
    "### Average HR"
   ]
  },
  {
   "cell_type": "code",
   "execution_count": 563,
   "metadata": {},
   "outputs": [
    {
     "data": {
      "image/png": "[encoded data removed]",
      "text/plain": [
       "<Figure size 640x480 with 1 Axes>"
      ]
     },
     "metadata": {},
     "output_type": "display_data"
    }
   ],
   "source": [
    "# reset figure\n",
    "plt.figure()\n",
    "\n",
    "hist_y = [x[1] for x in X]\n",
    "ys = [hist_y.count('low'), hist_y.count('mid'), hist_y.count('high')]\n",
    "\n",
    "# calculate a range (make y a bit bigger)\n",
    "xrng = np.arange(len(xs))\n",
    "yrng = np.arange(0, max(ys)+100, 50)\n",
    "\n",
    "# create the bar chart (.45 relativebar width)\n",
    "plt.bar(xrng, ys, 0.45, align=\"center\")\n",
    "# note: default alignment is center\n",
    "\n",
    "# define x and y ranges (and value labels)\n",
    "plt.xticks(xrng, [\"low\", \"mid\", \"high\"])\n",
    "plt.yticks(yrng)\n",
    "# turn on the background grid\n",
    "plt.grid(True)\n",
    "plt.title(\"Average HR Distribution\")\n",
    "plt.figtext(.5, 0, \"Figure 3: Bar chart of average heart rate distribution\", ha=\"center\")\n",
    "plt.show()"
   ]
  },
  {
   "cell_type": "markdown",
   "metadata": {},
   "source": [
    "### Duration"
   ]
  },
  {
   "cell_type": "code",
   "execution_count": 564,
   "metadata": {},
   "outputs": [
    {
     "data": {
      "image/png": "[encoded data removed]",
      "text/plain": [
       "<Figure size 640x480 with 1 Axes>"
      ]
     },
     "metadata": {},
     "output_type": "display_data"
    }
   ],
   "source": [
    "# reset figure\n",
    "plt.figure()\n",
    "\n",
    "hist_y = [x[2] for x in X]\n",
    "ys = [hist_y.count('low'), hist_y.count('mid'), hist_y.count('high')]\n",
    "\n",
    "# calculate a range (make y a bit bigger)\n",
    "xrng = np.arange(len(xs))\n",
    "yrng = np.arange(0, max(ys)+100, 50)\n",
    "\n",
    "# create the bar chart (.45 relativebar width)\n",
    "plt.bar(xrng, ys, 0.45, align=\"center\")\n",
    "# note: default alignment is center\n",
    "\n",
    "# define x and y ranges (and value labels)\n",
    "plt.xticks(xrng, [\"low\", \"mid\", \"high\"])\n",
    "plt.yticks(yrng)\n",
    "# turn on the background grid\n",
    "plt.grid(True)\n",
    "plt.title(\"Duration Distribution\")\n",
    "plt.figtext(.5, 0, \"Figure 4: Bar chart of  distribution\", ha=\"center\")\n",
    "plt.show()"
   ]
  },
  {
   "cell_type": "markdown",
   "metadata": {},
   "source": [
    "## Classification Results\n",
    "\n",
    "We tested classification with dummy (predict most frequent), KNN, naive bayes, decision tree, and random forest models. Out of all of these, KNN performed the best.\n",
    "\n",
    "As is standard, we used stratified cross fold validation (in this case with k=10). We measured: accuracy, error rate, precision, recall, f1, along with an included confusion matrix and classification report.\n",
    "\n",
    "Sometimes it can be difficult to decide which model is the best based upon accuracy vs precision vs recall. But the accuracy (mid 60s) and precision (mid 70s) for KNN was far ahead of the other models (which had accuracies in the 40s and precisions in the 50s), making it an easy winner.\n",
    "\n",
    "Note: We expected random forest classifier to somehow perform well, since we learned that it was supposed to be an upgraded version of decision tree models. However, this was not true in our case (even though it might be true for a bunch of other datasets). We tried testing various parameter values for N, M, and F, but never saw results that did much better than a standard decision tree."
   ]
  },
  {
   "cell_type": "code",
   "execution_count": 565,
   "metadata": {},
   "outputs": [
    {
     "name": "stdout",
     "output_type": "stream",
     "text": [
      "===========================================\n",
      "Dummy Summary Results\n",
      "===========================================\n",
      "1.\n",
      "    Accuracy: 0.39715394566623546\n",
      "    Error Rate: 0.6028460543337646\n",
      "2.\n",
      "    Precision: 0.39715394566623546\n",
      "    Recall: 1.0\n",
      "    F1 measure: 0.5685185185185185\n",
      "3. Confusion Matrix:\n",
      "Running      slow    mild    fast    Total    Recognition (%)\n",
      "---------  ------  ------  ------  -------  -----------------\n",
      "slow            0       0     198      198                  0\n",
      "mild            0       0     268      268                  0\n",
      "fast            0       0     307      307                100\n",
      "(Bonus) Classification Report:\n",
      "              precision    recall    f1-score    support\n",
      "------------  -----------  --------  ----------  ---------\n",
      "slow          0.0          0.0       0           198\n",
      "mild          0.0          0.0       0           268\n",
      "fast          0.4          1.0       0.57        307\n",
      "\n",
      "micro avg     0.4          1.0       0.57        773\n",
      "macro avg     0.13         0.33      0.19        773\n",
      "weighted avg  0.16         0.4       0.23        773\n"
     ]
    }
   ],
   "source": [
    "#Set up models # Add more from myclassifiers if time\n",
    "dummy_model = MyDummyClassifier() # Import these from myclassifiers\n",
    "knn_model = MyKNeighborsClassifier()\n",
    "bayes_model = MyNaiveBayesClassifier()\n",
    "tree_model = MyDecisionTreeClassifier()\n",
    "forest_model = MyRandomForestClassifier()\n",
    "\n",
    "labels = ['slow','mild','fast']\n",
    "pos_label='fast'\n",
    "\n",
    "# Repeat these following two lines for each possible model\n",
    "metrics, confusion, clas_repor = me.get_metrics_and_conf_matrix_and_report(dummy_model,10,X,y,labels,pos_label,'Running')\n",
    "mu.report_metrics_and_confusion('Dummy',metrics, confusion,\n",
    "    clas_repor)"
   ]
  },
  {
   "cell_type": "code",
   "execution_count": 566,
   "metadata": {},
   "outputs": [
    {
     "name": "stdout",
     "output_type": "stream",
     "text": [
      "===========================================\n",
      "KNN Summary Results\n",
      "===========================================\n",
      "1.\n",
      "    Accuracy: 0.6882276843467011\n",
      "    Error Rate: 0.3117723156532989\n",
      "2.\n",
      "    Precision: 0.7547169811320755\n",
      "    Recall: 0.7817589576547231\n",
      "    F1 measure: 0.7679999999999999\n",
      "3. Confusion Matrix:\n",
      "Running      slow    mild    fast    Total    Recognition (%)\n",
      "---------  ------  ------  ------  -------  -----------------\n",
      "slow          114      51      33      198            57.5758\n",
      "mild           45     178      45      268            66.4179\n",
      "fast           27      40     240      307            78.1759\n",
      "(Bonus) Classification Report:\n",
      "              precision    recall    f1-score    support\n",
      "------------  -----------  --------  ----------  ---------\n",
      "slow          0.61         0.58      0.59        198\n",
      "mild          0.66         0.66      0.66        268\n",
      "fast          0.75         0.78      0.77        307\n",
      "\n",
      "accuracy                             0.69        773\n",
      "macro avg     0.68         0.67      0.67        773\n",
      "weighted avg  0.69         0.69      0.69        773\n"
     ]
    }
   ],
   "source": [
    "metrics, confusion, clas_repor = me.get_metrics_and_conf_matrix_and_report(knn_model,10,X_undiscretized,y,labels,pos_label,'Running')\n",
    "mu.report_metrics_and_confusion('KNN',metrics, confusion,\n",
    "    clas_repor)"
   ]
  },
  {
   "cell_type": "code",
   "execution_count": 567,
   "metadata": {},
   "outputs": [
    {
     "name": "stdout",
     "output_type": "stream",
     "text": [
      "===========================================\n",
      "Bayes Summary Results\n",
      "===========================================\n",
      "1.\n",
      "    Accuracy: 0.4644243208279431\n",
      "    Error Rate: 0.535575679172057\n",
      "2.\n",
      "    Precision: 0.5\n",
      "    Recall: 0.6482084690553745\n",
      "    F1 measure: 0.5645390070921986\n",
      "3. Confusion Matrix:\n",
      "Running      slow    mild    fast    Total    Recognition (%)\n",
      "---------  ------  ------  ------  -------  -----------------\n",
      "slow           84      46      68      198            42.4242\n",
      "mild           61      76     131      268            28.3582\n",
      "fast           47      61     199      307            64.8208\n",
      "(Bonus) Classification Report:\n",
      "              precision    recall    f1-score    support\n",
      "------------  -----------  --------  ----------  ---------\n",
      "slow          0.44         0.42      0.43        198\n",
      "mild          0.42         0.28      0.34        268\n",
      "fast          0.5          0.65      0.56        307\n",
      "\n",
      "accuracy                             0.46        773\n",
      "macro avg     0.45         0.45      0.44        773\n",
      "weighted avg  0.45         0.46      0.45        773\n"
     ]
    }
   ],
   "source": [
    "metrics, confusion, clas_repor = me.get_metrics_and_conf_matrix_and_report(MyNaiveBayesClassifier(),10,X,y,labels,pos_label,'Running')\n",
    "mu.report_metrics_and_confusion('Bayes',metrics, confusion,\n",
    "    clas_repor)"
   ]
  },
  {
   "cell_type": "code",
   "execution_count": 568,
   "metadata": {},
   "outputs": [
    {
     "name": "stdout",
     "output_type": "stream",
     "text": [
      "===========================================\n",
      "Tree Summary Results\n",
      "===========================================\n",
      "1.\n",
      "    Accuracy: 0.4799482535575679\n",
      "    Error Rate: 0.5200517464424321\n",
      "2.\n",
      "    Precision: 0.5114503816793893\n",
      "    Recall: 0.6547231270358306\n",
      "    F1 measure: 0.5742857142857143\n",
      "3. Confusion Matrix:\n",
      "Running      slow    mild    fast    Total    Recognition (%)\n",
      "---------  ------  ------  ------  -------  -----------------\n",
      "slow           68      54      76      198            34.3434\n",
      "mild           50     102     116      268            38.0597\n",
      "fast           33      73     201      307            65.4723\n",
      "(Bonus) Classification Report:\n",
      "              precision    recall    f1-score    support\n",
      "------------  -----------  --------  ----------  ---------\n",
      "slow          0.45         0.34      0.39        198\n",
      "mild          0.45         0.38      0.41        268\n",
      "fast          0.51         0.65      0.57        307\n",
      "\n",
      "accuracy                             0.48        773\n",
      "macro avg     0.47         0.46      0.46        773\n",
      "weighted avg  0.47         0.48      0.47        773\n"
     ]
    }
   ],
   "source": [
    "metrics, confusion, clas_repor = me.get_metrics_and_conf_matrix_and_report(tree_model,10,X,y,labels,pos_label,'Running')\n",
    "mu.report_metrics_and_confusion('Tree',metrics, confusion,\n",
    "    clas_repor)"
   ]
  },
  {
   "cell_type": "code",
   "execution_count": 569,
   "metadata": {},
   "outputs": [
    {
     "name": "stdout",
     "output_type": "stream",
     "text": [
      "===========================================\n",
      "Forest Summary Results\n",
      "===========================================\n",
      "1.\n",
      "    Accuracy: 0.46054333764553684\n",
      "    Error Rate: 0.5394566623544632\n",
      "2.\n",
      "    Precision: 0.5024038461538461\n",
      "    Recall: 0.6807817589576547\n",
      "    F1 measure: 0.578146611341632\n",
      "3. Confusion Matrix:\n",
      "Running      slow    mild    fast    Total    Recognition (%)\n",
      "---------  ------  ------  ------  -------  -----------------\n",
      "slow           83      56      59      198            41.9192\n",
      "mild           61      96     111      268            35.8209\n",
      "fast           48      88     171      307            55.7003\n",
      "(Bonus) Classification Report:\n",
      "              precision    recall    f1-score    support\n",
      "------------  -----------  --------  ----------  ---------\n",
      "slow          0.42         0.41      0.42        198\n",
      "mild          0.4          0.25      0.3         268\n",
      "fast          0.5          0.68      0.58        307\n",
      "\n",
      "accuracy                             0.46        773\n",
      "macro avg     0.44         0.45      0.43        773\n",
      "weighted avg  0.45         0.46      0.44        773\n"
     ]
    }
   ],
   "source": [
    "metrics, confusion, clas_repor = me.get_metrics_and_conf_matrix_and_report_forest(forest_model,10,X,y,labels,pos_label,'Running', N=13, M=11, F=2)\n",
    "mu.report_metrics_and_confusion('Forest',metrics, confusion,\n",
    "    clas_repor)"
   ]
  },
  {
   "cell_type": "markdown",
   "metadata": {},
   "source": [
    "## Web App\n",
    "\n",
    "We developed a flask app that uses our KNN model to predict running speed. It has a user interface. It is hosted by Render.\n",
    "\n",
    "Our flask app: https://dataalg-final-project-running.onrender.com/"
   ]
  },
  {
   "cell_type": "markdown",
   "metadata": {},
   "source": [
    "## Conclusion\n",
    "\n",
    "Review: We gathered and cleaned data on running speed vs other metrics, fed it into a bunch of models, determined KNN was the best, and used the KNN model to deploy a web app for making predictions about running speed.\n",
    "\n",
    "Dataset summary: We used previous day max stress, average heart rate, and duration, discretized these each into 3 possible values. Then used them to predict running slow, mild, or fast. The biggest inherent challenge with the dataset was all the cleaning (e.g., converting to csv, removing all the misc. files, figuring out what was relevent, removing the instances with missing values). The second biggest challenge with this is that the correlation between our attributes and class isn't that strong, so we were only able to get an accuracy of 68%.\n",
    "\n",
    "Classification: We tested multiple classifiers and compared based on accuracy and precision, but KNN was the best by far. So we deployed KNN for classification.\n",
    "\n",
    "Performance: \n",
    "* Accuracy: 0.68\n",
    "* Error Rate: 0.31\n",
    "* Precision: 0.75\n",
    "* Recall: 0.78\n",
    "* F1 measure: 0.76\n",
    "As you can see, all metrics are good, albeit the accuracy is on the lower side of good, but it is far better than dummy predict. Which had an error Rate of 0.60 and a precision of 0.39\n",
    "\n",
    "Ideas for Improvement:\n",
    "* Chunk data by time: Runs from 5 years ago are maybe slower, then runs today.\n",
    "* Utilize an aggregate model involving KNN along with other kinds of models. Other models tend to perform worse than KNN, but there are some cases where they seem to do better, so it makes sense to find a way to include them.\n",
    "* Add another dataset, like weather, to get a bigger picture of what might be affecting running speed. E.G., If it's icy out, than probably runs are going to be a lot slower."
   ]
  },
  {
   "cell_type": "markdown",
   "metadata": {},
   "source": [
    "## Acknowledgments\n",
    "\n",
    "* https://www.convertcsv.com/json-to-csv.htm was used for converting our initial json files to csv's. We believe writing our own json to csv convertor would have been doable, but outside of the scope of this project and deadline\n",
    "* Also, Jack has been making a flask website for his database final so he read all of the w3 tutorials on HTML. The two web things are completely different, but he's using the same css file for both projects (or at least that's what we started with)\n",
    "* No other outside resources were used, other than simply searching Google and Stack Overflow when there was a question about how to do/fix something."
   ]
  }
 ],
 "metadata": {
  "kernelspec": {
   "display_name": "Python 3",
   "language": "python",
   "name": "python3"
  },
  "language_info": {
   "codemirror_mode": {
    "name": "ipython",
    "version": 3
   },
   "file_extension": ".py",
   "mimetype": "text/x-python",
   "name": "python",
   "nbconvert_exporter": "python",
   "pygments_lexer": "ipython3",
   "version": "3.12.7"
  }
 },
 "nbformat": 4,
 "nbformat_minor": 2
}
