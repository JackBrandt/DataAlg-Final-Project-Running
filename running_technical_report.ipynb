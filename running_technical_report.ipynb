{
 "cells": [
  {
   "cell_type": "markdown",
   "metadata": {},
   "source": [
    "INSERT REPORT TITLE AND INFO HERE"
   ]
  },
  {
   "cell_type": "markdown",
   "metadata": {},
   "source": [
    "### Imports"
   ]
  },
  {
   "cell_type": "code",
   "execution_count": 12,
   "metadata": {},
   "outputs": [],
   "source": [
    "# Imports\n",
    "import importlib\n",
    "# mypytable\n",
    "import mysklearn.mypytable\n",
    "importlib.reload(mysklearn.mypytable)\n",
    "from mysklearn.mypytable import MyPyTable\n",
    "# next import\n"
   ]
  },
  {
   "cell_type": "markdown",
   "metadata": {},
   "source": [
    "## Step 1: Data Cleaning\n",
    "\n",
    "### Preprocessing\n",
    "\n",
    "The data came as a large number of JSON files grouped into folders. Many of the files and folders were empty, so we began by deleting those. Some of the files contained irrelevant data/non-changing data, such as date of birth and device specs, so we also deleted those. What we were left with was three sets of JSON files, aggregator, fitness, and wellness.\n",
    "\n",
    "* Aggregator: This contains the most info. It has a list of metrics related to stress, calories, heart rate, and minor metrics related to activity\n",
    "* Fitness: This contains a list of activities and information about them. All of these activities are runs. Has attributes like distance, speed, heart rate, duration\n",
    "* Wellness: This mainly contained sleep data\n",
    "\n",
    "### Cleaning/Joining TODO\n",
    "\n",
    "Many instances in the dataset are missing values, or are just instances with basically no data. TODO: Make copies of the data without these bad instances\n",
    "\n",
    "Additionally, for this step we combine all of the many JSON files into one. First by joining all files within each folder, simply appending them onto each other. Then join the lists from each folder. \n",
    "\n",
    "We also opened the CSV's in Excel to guide our decision-making process for this step."
   ]
  },
  {
   "cell_type": "code",
   "execution_count": 16,
   "metadata": {},
   "outputs": [],
   "source": [
    "# Cleaning/Joining...\n",
    "# SLEEP\n",
    "# 1. load all files\n",
    "full_sleep_table = MyPyTable()\n",
    "full_sleep_table.load_from_file('csv_converted_data/connect_wellness/2021-04-23_2021-08-01_96200873_sleepData.csv')\n",
    "other_table_1 = MyPyTable()\n",
    "other_table_1.load_from_file('csv_converted_data/connect_wellness/2021-08-01_2021-11-09_96200873_sleepData.csv')\n",
    "other_table_2 = MyPyTable()\n",
    "other_table_2.load_from_file('csv_converted_data/connect_wellness/2021-11-09_2022-02-17_96200873_sleepData.csv')\n",
    "other_table_3 = MyPyTable()\n",
    "other_table_3.load_from_file('csv_converted_data/connect_wellness/2022-02-17_2022-05-28_96200873_sleepData.csv')\n",
    "other_table_4= MyPyTable()\n",
    "other_table_4.load_from_file('csv_converted_data/connect_wellness/2022-05-28_2022-09-05_96200873_sleepData.csv')\n",
    "other_table_5 = MyPyTable()\n",
    "other_table_5.load_from_file('csv_converted_data/connect_wellness/2022-09-05_2022-12-14_96200873_sleepData.csv')\n",
    "other_table_6 = MyPyTable()\n",
    "other_table_6.load_from_file('csv_converted_data/connect_wellness/2022-12-14_2023-03-24_96200873_sleepData.csv')\n",
    "other_table_7 = MyPyTable()\n",
    "other_table_7.load_from_file('csv_converted_data/connect_wellness/2023-03-24_2023-07-02_96200873_sleepData.csv')\n",
    "other_table_8 = MyPyTable()\n",
    "other_table_8.load_from_file('csv_converted_data/connect_wellness/2023-07-02_2023-10-10_96200873_sleepData.csv')\n",
    "other_table_9 = MyPyTable()\n",
    "other_table_9.load_from_file('csv_converted_data/connect_wellness/2023-10-10_2024-01-18_96200873_sleepData.csv')\n",
    "other_table_10 = MyPyTable()\n",
    "other_table_10.load_from_file('csv_converted_data/connect_wellness/2024-01-18_2024-04-27_96200873_sleepData.csv')\n",
    "other_table_11 = MyPyTable()\n",
    "other_table_11.load_from_file('csv_converted_data/connect_wellness/2024-04-27_2024-08-05_96200873_sleepData.csv')\n",
    "other_table_12 = MyPyTable()\n",
    "other_table_12.load_from_file('csv_converted_data/connect_wellness/2024-08-05_2024-11-13_96200873_sleepData.csv')\n",
    "\n",
    "# 2. Join all files to full\n",
    "other_tables = [other_table_1,other_table_2,other_table_3,other_table_4,\n",
    "                other_table_5,other_table_6,other_table_7,other_table_8,\n",
    "                other_table_9,other_table_10,other_table_11,other_table_12]\n",
    "for table in other_tables:\n",
    "    full_sleep_table.data+=table.data\n",
    "#current_table.pretty_print()\n",
    "# 3. Basic cleaning\n",
    "full_sleep_table.remove_rows_with_missing_values()\n",
    "full_sleep_table.remove_rows_where_col_equal_specified(3,'OFF_WRIST')\n",
    "\n",
    "# This is all of our joined sleep data\n",
    "#full_sleep_table.pretty_print()\n",
    "full_sleep_table.save_to_file('joined_nullfree_subsets/full_sleep')"
   ]
  },
  {
   "cell_type": "code",
   "execution_count": null,
   "metadata": {},
   "outputs": [],
   "source": [
    "# Repeat for other file sets\n"
   ]
  },
  {
   "cell_type": "code",
   "execution_count": null,
   "metadata": {},
   "outputs": [],
   "source": [
    "# Misc\n"
   ]
  }
 ],
 "metadata": {
  "kernelspec": {
   "display_name": "base",
   "language": "python",
   "name": "python3"
  },
  "language_info": {
   "codemirror_mode": {
    "name": "ipython",
    "version": 3
   },
   "file_extension": ".py",
   "mimetype": "text/x-python",
   "name": "python",
   "nbconvert_exporter": "python",
   "pygments_lexer": "ipython3",
   "version": "3.12.4"
  }
 },
 "nbformat": 4,
 "nbformat_minor": 2
}
